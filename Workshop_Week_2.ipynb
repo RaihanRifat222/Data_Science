{
  "cells": [
    {
      "cell_type": "markdown",
      "metadata": {
        "id": "Z-t7JGnesCYe"
      },
      "source": [
        "The goal this week is to pratice using Markdown to write descriptive text in notebooks and then look at Python data structures including the pandas module that supports data structures designed for handling the kind of data we'll be working with.  \n",
        "\n",
        "There is probably too much work to complete here in the workshop session, but please use this notebook after the workshop to practice your Python.  Remember to commit your changes to git as you go and push back to Github when you are done."
      ]
    },
    {
      "cell_type": "code",
      "execution_count": 1,
      "metadata": {
        "id": "XlScZahpsCYi"
      },
      "outputs": [],
      "source": [
        "student_name = \"Md Raihanul Islam Bhuiyan\"\n",
        "student_id = \"48401706\""
      ]
    },
    {
      "cell_type": "markdown",
      "metadata": {
        "id": "2nsF2kJOsCYk"
      },
      "source": [
        "## Markdown Practice\n",
        "\n",
        "Complete this section as per the instructions in the iLearn practical page.  Add the required cells below this one."
      ]
    },
    {
      "cell_type": "markdown",
      "source": [
        "# Unordered List\n",
        "\n"
      ],
      "metadata": {
        "id": "31elrlRIvR9A"
      }
    },
    {
      "cell_type": "markdown",
      "metadata": {
        "id": "WRIsWa_gsCYk"
      },
      "source": [
        "## Lists and Dictionaries\n",
        "\n",
        "First we look at some built in Python data structures: lists and dictionaries.\n",
        "\n",
        "A list is a sequence of things, unlike strongly typed languages (Java, C#) a list can contain a mixture of different types - there is no type for a list of integers or a list of lists.   Here are some lists:"
      ]
    },
    {
      "cell_type": "code",
      "execution_count": 2,
      "metadata": {
        "id": "FAUzzDzOsCYl"
      },
      "outputs": [],
      "source": [
        "ages = [12, 99, 51, 3, 55]\n",
        "names = ['steve', 'jim', 'mary', 'carrie', 'zin']\n",
        "stuff = [12, 'eighteen', 6, ['another', 'list']]"
      ]
    },
    {
      "cell_type": "markdown",
      "metadata": {
        "id": "3D2uqsIYsCYl"
      },
      "source": [
        "1. write code to print the first and third elements of each list\n",
        "2. write code to select and print everything except the first element of each list\n",
        "3. write a for loop that prints each element of the 'names' list"
      ]
    },
    {
      "cell_type": "code",
      "execution_count": 5,
      "metadata": {
        "colab": {
          "base_uri": "https://localhost:8080/"
        },
        "id": "FmK9sLumsCYl",
        "outputId": "1e10c8da-f10b-4f22-cc78-966b576102bb"
      },
      "outputs": [
        {
          "output_type": "stream",
          "name": "stdout",
          "text": [
            "First and third element of each list\n",
            "12 51\n",
            "steve mary\n",
            "12 6\n",
            "[99, 51, 3, 55]\n",
            "['jim', 'mary', 'carrie', 'zin']\n",
            "['eighteen', 6, ['another', 'list']]\n",
            "steve\n",
            "jim\n",
            "mary\n",
            "carrie\n",
            "zin\n"
          ]
        }
      ],
      "source": [
        "# write code here\n",
        "\n",
        "print('First and third element of each list')\n",
        "print(ages[0], ages[2])\n",
        "print(names[0], names[2])\n",
        "print(stuff[0], stuff[2])\n",
        "print(ages[1:])\n",
        "print(names[1:])\n",
        "print(stuff[1:])\n",
        "\n",
        "for element in names:\n",
        "  print(element)\n"
      ]
    },
    {
      "cell_type": "markdown",
      "metadata": {
        "id": "uET5Em9lsCYl"
      },
      "source": [
        "A dictionary is an associative array - it associates a value (any Python data type) with a key. The key is usually a string but can be any immutable type (string, number, tuple).  Here's some code that counts the occurence of words in a string.  It stores the count for each word in a dictionary using the word as a key. If the word is already stored in the dictionary, it adds one to the count, if not, it initialises the count to one.  \n",
        "\n",
        "The second for loop iterates over the keys in the dictionary and prints one line per entry.\n",
        "\n",
        "Modify this example to be a bit smarter:\n",
        "- make sure that punctuation characters are not included as parts of a word, be careful with hyphens - should they be included or not?\n",
        "- make the count use the lowercase version of a word, so that 'The' and 'the' are counted as the same word\n",
        "- **Challenge**: find the first and second most frequent words in the text\n",
        "- **Challenge**: take your code and write it as a function that takes a string and returns a list of words with their counts in order"
      ]
    },
    {
      "cell_type": "code",
      "execution_count": 6,
      "metadata": {
        "colab": {
          "base_uri": "https://localhost:8080/"
        },
        "id": "eyJaL9Y9sCYm",
        "outputId": "69317e4a-5e7a-4710-ce6b-eb8e580609df"
      },
      "outputs": [
        {
          "output_type": "stream",
          "name": "stdout",
          "text": [
            "This 1\n",
            "unit 3\n",
            "introduces 1\n",
            "students 1\n",
            "to 4\n",
            "the 5\n",
            "fundamental 1\n",
            "techniques 1\n",
            "and 3\n",
            "tools 2\n",
            "of 3\n",
            "data 5\n",
            "science, 1\n",
            "such 1\n",
            "as 1\n",
            "graphical 1\n",
            "display 1\n",
            "data, 1\n",
            "predictive 1\n",
            "models, 1\n",
            "evaluation 1\n",
            "methodologies, 1\n",
            "regression, 1\n",
            "classification 1\n",
            "clustering. 1\n",
            "The 1\n",
            "provides 1\n",
            "practical 1\n",
            "experience 1\n",
            "applying 1\n",
            "these 2\n",
            "methods 3\n",
            "using 1\n",
            "industry-standard 1\n",
            "software 1\n",
            "real-world 2\n",
            "sets. 1\n",
            "Students 1\n",
            "who 1\n",
            "have 2\n",
            "completed 1\n",
            "this 1\n",
            "will 1\n",
            "be 1\n",
            "able 1\n",
            "identify 1\n",
            "which 1\n",
            "science 1\n",
            "are 1\n",
            "most 1\n",
            "appropriate 1\n",
            "for 1\n",
            "a 1\n",
            "set, 2\n",
            "apply 1\n",
            "interpret 1\n",
            "results 1\n",
            "analysis 1\n",
            "they 1\n",
            "performed. 1\n"
          ]
        }
      ],
      "source": [
        "description = \"\"\"This unit introduces students to the fundamental techniques and\n",
        "tools of data science, such as the graphical display of data,\n",
        "predictive models, evaluation methodologies, regression,\n",
        "classification and clustering. The unit provides practical\n",
        "experience applying these methods using industry-standard\n",
        "software tools to real-world data sets. Students who have\n",
        "completed this unit will be able to identify which data\n",
        "science methods are most appropriate for a real-world data\n",
        "set, apply these methods to the data set, and interpret the\n",
        "results of the analysis they have performed. \"\"\"\n",
        "\n",
        "count = dict()\n",
        "for word in description.split():\n",
        "    if word in count:\n",
        "        count[word] += 1\n",
        "    else:\n",
        "        count[word] = 1\n",
        "\n",
        "for word in count:\n",
        "    print(word, count[word])"
      ]
    },
    {
      "cell_type": "markdown",
      "source": [
        "import re\n",
        "\n",
        "desc = re.sub(r[^\\s\\w]','',description)"
      ],
      "metadata": {
        "id": "RMw9aPcgyZ32"
      }
    },
    {
      "cell_type": "code",
      "source": [
        "import re\n",
        "\n",
        "desc = re.sub(r'[^\\s\\w]','',description)\n",
        "print(desc)"
      ],
      "metadata": {
        "colab": {
          "base_uri": "https://localhost:8080/"
        },
        "id": "uQi0_t6PywnR",
        "outputId": "e541205a-6d8d-4f77-9b85-17892da8889c"
      },
      "execution_count": 13,
      "outputs": [
        {
          "output_type": "stream",
          "name": "stdout",
          "text": [
            "This unit introduces students to the fundamental techniques and \n",
            "tools of data science such as the graphical display of data \n",
            "predictive models evaluation methodologies regression \n",
            "classification and clustering The unit provides practical \n",
            "experience applying these methods using industrystandard \n",
            "software tools to realworld data sets Students who have \n",
            "completed this unit will be able to identify which data \n",
            "science methods are most appropriate for a realworld data \n",
            "set apply these methods to the data set and interpret the \n",
            "results of the analysis they have performed \n"
          ]
        }
      ]
    },
    {
      "cell_type": "code",
      "source": [
        "count = dict()\n",
        "for word in desc.split():\n",
        "    if word in count:\n",
        "        count[word] += 1\n",
        "    else:\n",
        "        count[word] = 1\n",
        "\n",
        "for word in count:\n",
        "    print(word, count[word])"
      ],
      "metadata": {
        "colab": {
          "base_uri": "https://localhost:8080/"
        },
        "id": "qMX-Ng1_zbZB",
        "outputId": "6310e447-1a11-4682-a047-139fbfdcc7d3"
      },
      "execution_count": 14,
      "outputs": [
        {
          "output_type": "stream",
          "name": "stdout",
          "text": [
            "This 1\n",
            "unit 3\n",
            "introduces 1\n",
            "students 1\n",
            "to 4\n",
            "the 5\n",
            "fundamental 1\n",
            "techniques 1\n",
            "and 3\n",
            "tools 2\n",
            "of 3\n",
            "data 6\n",
            "science 2\n",
            "such 1\n",
            "as 1\n",
            "graphical 1\n",
            "display 1\n",
            "predictive 1\n",
            "models 1\n",
            "evaluation 1\n",
            "methodologies 1\n",
            "regression 1\n",
            "classification 1\n",
            "clustering 1\n",
            "The 1\n",
            "provides 1\n",
            "practical 1\n",
            "experience 1\n",
            "applying 1\n",
            "these 2\n",
            "methods 3\n",
            "using 1\n",
            "industrystandard 1\n",
            "software 1\n",
            "realworld 2\n",
            "sets 1\n",
            "Students 1\n",
            "who 1\n",
            "have 2\n",
            "completed 1\n",
            "this 1\n",
            "will 1\n",
            "be 1\n",
            "able 1\n",
            "identify 1\n",
            "which 1\n",
            "are 1\n",
            "most 1\n",
            "appropriate 1\n",
            "for 1\n",
            "a 1\n",
            "set 2\n",
            "apply 1\n",
            "interpret 1\n",
            "results 1\n",
            "analysis 1\n",
            "they 1\n",
            "performed 1\n"
          ]
        }
      ]
    },
    {
      "cell_type": "code",
      "source": [
        "first_two = sorted(count.values(), reverse = True)[:2]\n",
        "print(first_two)\n",
        "\n"
      ],
      "metadata": {
        "colab": {
          "base_uri": "https://localhost:8080/"
        },
        "id": "17GRNkBf05QX",
        "outputId": "819effb8-902a-4525-8360-b6b9979d23ca"
      },
      "execution_count": 16,
      "outputs": [
        {
          "output_type": "stream",
          "name": "stdout",
          "text": [
            "[6, 5]\n"
          ]
        }
      ]
    },
    {
      "cell_type": "code",
      "source": [
        "def word_count(string):\n",
        "  count = dict()\n",
        "  string = re.sub(r'[^\\s\\w]','', string)\n",
        "  for word in string.split():\n",
        "      if word in count:\n",
        "          count[word] += 1\n",
        "      else:\n",
        "          count[word] = 1\n",
        "\n",
        "  first_two = sorted(count.values(), reverse = True)[:2]\n",
        "  return (first_two)\n",
        "\n",
        "\n",
        "print(word_count(description))"
      ],
      "metadata": {
        "colab": {
          "base_uri": "https://localhost:8080/"
        },
        "id": "-LrIlwE3121t",
        "outputId": "a8d21f61-da14-4c17-adeb-45eb89c6bfdb"
      },
      "execution_count": 18,
      "outputs": [
        {
          "output_type": "stream",
          "name": "stdout",
          "text": [
            "[6, 5]\n"
          ]
        }
      ]
    },
    {
      "cell_type": "code",
      "source": [],
      "metadata": {
        "id": "YYu5QosM2FV5"
      },
      "execution_count": null,
      "outputs": []
    },
    {
      "cell_type": "markdown",
      "metadata": {
        "id": "YKhNOu5KsCYm"
      },
      "source": [
        "## Pandas Data Frames\n",
        "\n",
        "[Pandas](https://pandas.pydata.org) is a Python module that provides some important data structures for Data Science work and a large collection of methods for data analysis.\n",
        "\n",
        "The two main data structures are the [Series]() and [DataFrame](http://pandas.pydata.org/pandas-docs/stable/dsintro.html#dataframe).  \n",
        "\n",
        "A Series is a one dimensional array of data, but unlike the Python list the data is indexed - the index is like the dictionary key, any immutable value like a number or string.  You can use the label to select elements from the series as well as positional values.  \n",
        "\n",
        "A DataFrame is analogous to a spreadsheet - a two dimensional table of data with indexed rows and named columns.\n",
        "\n",
        "You should read up on these and follow the examples in the text.  Here are a few exercises to complete with data frames."
      ]
    },
    {
      "cell_type": "code",
      "source": [],
      "metadata": {
        "id": "kkd1Hd_Syu62"
      },
      "execution_count": null,
      "outputs": []
    },
    {
      "cell_type": "markdown",
      "metadata": {
        "id": "d0V-tiC_sCYm"
      },
      "source": [
        "You are given three csv files containing sample data."
      ]
    },
    {
      "cell_type": "code",
      "execution_count": 23,
      "metadata": {
        "id": "3985A6mysCYn"
      },
      "outputs": [],
      "source": [
        "import pandas as pd\n",
        "import numpy as np\n",
        "import matplotlib.pyplot as plt\n",
        "%matplotlib inline\n",
        "\n",
        "ds1 = '/content/ds1.csv'\n",
        "ds2 = '/content/ds2.csv'\n",
        "ds3 = '/content/ds3.csv'"
      ]
    },
    {
      "cell_type": "markdown",
      "metadata": {
        "id": "vGqGBQiJsCYn"
      },
      "source": [
        "Write code below to read one of these data files into a pandas data frame and:\n",
        "- show the first few rows: .head\n",
        "- find the summary data for each column: .describe\n",
        "- select just those rows where the value of x and y is over 50\n",
        "- select the column 'x' and create a series\n",
        "- plot the 'x' series as a line graph\n",
        "- plot the dataframe as a scatterplot\n",
        "\n",
        "Once you have the code for this, you can change the file you use for input of the data (ds2, ds3) and re-run the following cells to see the different output that is generated"
      ]
    },
    {
      "cell_type": "code",
      "execution_count": 30,
      "metadata": {
        "colab": {
          "base_uri": "https://localhost:8080/",
          "height": 1000
        },
        "id": "ifQL6A15sCYn",
        "outputId": "43917363-296b-4db8-c2ec-8cabf74b1e9c"
      },
      "outputs": [
        {
          "output_type": "execute_result",
          "data": {
            "text/plain": [
              "          x        y\n",
              "0   55.3846  97.1795\n",
              "1   51.5385  96.0256\n",
              "22  53.0769  55.6410\n",
              "23  56.6667  56.0256\n",
              "24  59.2308  57.9487\n",
              "25  61.2821  62.1795\n",
              "26  61.5385  66.4103\n",
              "27  61.7949  69.1026\n",
              "28  57.4359  55.2564\n",
              "60  70.5128  53.7180\n",
              "61  71.5385  60.6410\n",
              "62  71.5385  64.4872\n",
              "63  69.4872  69.4872\n",
              "67  53.0769  85.2564\n",
              "68  55.3846  86.0256\n",
              "69  56.6667  86.0256\n",
              "70  56.1538  82.9487\n",
              "71  53.8462  80.6410\n",
              "72  51.2821  78.7180\n",
              "78  57.9487  99.4872\n",
              "79  61.7949  99.1026\n",
              "80  64.8718  97.5641\n",
              "81  68.4615  94.1026\n",
              "82  70.7692  91.0256\n",
              "83  72.0513  86.4103\n",
              "84  73.8462  83.3333\n",
              "85  75.1282  79.1026\n",
              "86  76.6667  75.2564\n",
              "87  77.6923  71.4103\n",
              "88  79.7436  66.7949\n",
              "89  81.7949  60.2564\n",
              "90  83.3333  55.2564\n",
              "91  85.1282  51.4103"
            ],
            "text/html": [
              "\n",
              "  <div id=\"df-f2a4e56c-da55-4f3e-aac9-1cc70b3bbf8a\" class=\"colab-df-container\">\n",
              "    <div>\n",
              "<style scoped>\n",
              "    .dataframe tbody tr th:only-of-type {\n",
              "        vertical-align: middle;\n",
              "    }\n",
              "\n",
              "    .dataframe tbody tr th {\n",
              "        vertical-align: top;\n",
              "    }\n",
              "\n",
              "    .dataframe thead th {\n",
              "        text-align: right;\n",
              "    }\n",
              "</style>\n",
              "<table border=\"1\" class=\"dataframe\">\n",
              "  <thead>\n",
              "    <tr style=\"text-align: right;\">\n",
              "      <th></th>\n",
              "      <th>x</th>\n",
              "      <th>y</th>\n",
              "    </tr>\n",
              "  </thead>\n",
              "  <tbody>\n",
              "    <tr>\n",
              "      <th>0</th>\n",
              "      <td>55.3846</td>\n",
              "      <td>97.1795</td>\n",
              "    </tr>\n",
              "    <tr>\n",
              "      <th>1</th>\n",
              "      <td>51.5385</td>\n",
              "      <td>96.0256</td>\n",
              "    </tr>\n",
              "    <tr>\n",
              "      <th>22</th>\n",
              "      <td>53.0769</td>\n",
              "      <td>55.6410</td>\n",
              "    </tr>\n",
              "    <tr>\n",
              "      <th>23</th>\n",
              "      <td>56.6667</td>\n",
              "      <td>56.0256</td>\n",
              "    </tr>\n",
              "    <tr>\n",
              "      <th>24</th>\n",
              "      <td>59.2308</td>\n",
              "      <td>57.9487</td>\n",
              "    </tr>\n",
              "    <tr>\n",
              "      <th>25</th>\n",
              "      <td>61.2821</td>\n",
              "      <td>62.1795</td>\n",
              "    </tr>\n",
              "    <tr>\n",
              "      <th>26</th>\n",
              "      <td>61.5385</td>\n",
              "      <td>66.4103</td>\n",
              "    </tr>\n",
              "    <tr>\n",
              "      <th>27</th>\n",
              "      <td>61.7949</td>\n",
              "      <td>69.1026</td>\n",
              "    </tr>\n",
              "    <tr>\n",
              "      <th>28</th>\n",
              "      <td>57.4359</td>\n",
              "      <td>55.2564</td>\n",
              "    </tr>\n",
              "    <tr>\n",
              "      <th>60</th>\n",
              "      <td>70.5128</td>\n",
              "      <td>53.7180</td>\n",
              "    </tr>\n",
              "    <tr>\n",
              "      <th>61</th>\n",
              "      <td>71.5385</td>\n",
              "      <td>60.6410</td>\n",
              "    </tr>\n",
              "    <tr>\n",
              "      <th>62</th>\n",
              "      <td>71.5385</td>\n",
              "      <td>64.4872</td>\n",
              "    </tr>\n",
              "    <tr>\n",
              "      <th>63</th>\n",
              "      <td>69.4872</td>\n",
              "      <td>69.4872</td>\n",
              "    </tr>\n",
              "    <tr>\n",
              "      <th>67</th>\n",
              "      <td>53.0769</td>\n",
              "      <td>85.2564</td>\n",
              "    </tr>\n",
              "    <tr>\n",
              "      <th>68</th>\n",
              "      <td>55.3846</td>\n",
              "      <td>86.0256</td>\n",
              "    </tr>\n",
              "    <tr>\n",
              "      <th>69</th>\n",
              "      <td>56.6667</td>\n",
              "      <td>86.0256</td>\n",
              "    </tr>\n",
              "    <tr>\n",
              "      <th>70</th>\n",
              "      <td>56.1538</td>\n",
              "      <td>82.9487</td>\n",
              "    </tr>\n",
              "    <tr>\n",
              "      <th>71</th>\n",
              "      <td>53.8462</td>\n",
              "      <td>80.6410</td>\n",
              "    </tr>\n",
              "    <tr>\n",
              "      <th>72</th>\n",
              "      <td>51.2821</td>\n",
              "      <td>78.7180</td>\n",
              "    </tr>\n",
              "    <tr>\n",
              "      <th>78</th>\n",
              "      <td>57.9487</td>\n",
              "      <td>99.4872</td>\n",
              "    </tr>\n",
              "    <tr>\n",
              "      <th>79</th>\n",
              "      <td>61.7949</td>\n",
              "      <td>99.1026</td>\n",
              "    </tr>\n",
              "    <tr>\n",
              "      <th>80</th>\n",
              "      <td>64.8718</td>\n",
              "      <td>97.5641</td>\n",
              "    </tr>\n",
              "    <tr>\n",
              "      <th>81</th>\n",
              "      <td>68.4615</td>\n",
              "      <td>94.1026</td>\n",
              "    </tr>\n",
              "    <tr>\n",
              "      <th>82</th>\n",
              "      <td>70.7692</td>\n",
              "      <td>91.0256</td>\n",
              "    </tr>\n",
              "    <tr>\n",
              "      <th>83</th>\n",
              "      <td>72.0513</td>\n",
              "      <td>86.4103</td>\n",
              "    </tr>\n",
              "    <tr>\n",
              "      <th>84</th>\n",
              "      <td>73.8462</td>\n",
              "      <td>83.3333</td>\n",
              "    </tr>\n",
              "    <tr>\n",
              "      <th>85</th>\n",
              "      <td>75.1282</td>\n",
              "      <td>79.1026</td>\n",
              "    </tr>\n",
              "    <tr>\n",
              "      <th>86</th>\n",
              "      <td>76.6667</td>\n",
              "      <td>75.2564</td>\n",
              "    </tr>\n",
              "    <tr>\n",
              "      <th>87</th>\n",
              "      <td>77.6923</td>\n",
              "      <td>71.4103</td>\n",
              "    </tr>\n",
              "    <tr>\n",
              "      <th>88</th>\n",
              "      <td>79.7436</td>\n",
              "      <td>66.7949</td>\n",
              "    </tr>\n",
              "    <tr>\n",
              "      <th>89</th>\n",
              "      <td>81.7949</td>\n",
              "      <td>60.2564</td>\n",
              "    </tr>\n",
              "    <tr>\n",
              "      <th>90</th>\n",
              "      <td>83.3333</td>\n",
              "      <td>55.2564</td>\n",
              "    </tr>\n",
              "    <tr>\n",
              "      <th>91</th>\n",
              "      <td>85.1282</td>\n",
              "      <td>51.4103</td>\n",
              "    </tr>\n",
              "  </tbody>\n",
              "</table>\n",
              "</div>\n",
              "    <div class=\"colab-df-buttons\">\n",
              "\n",
              "  <div class=\"colab-df-container\">\n",
              "    <button class=\"colab-df-convert\" onclick=\"convertToInteractive('df-f2a4e56c-da55-4f3e-aac9-1cc70b3bbf8a')\"\n",
              "            title=\"Convert this dataframe to an interactive table.\"\n",
              "            style=\"display:none;\">\n",
              "\n",
              "  <svg xmlns=\"http://www.w3.org/2000/svg\" height=\"24px\" viewBox=\"0 -960 960 960\">\n",
              "    <path d=\"M120-120v-720h720v720H120Zm60-500h600v-160H180v160Zm220 220h160v-160H400v160Zm0 220h160v-160H400v160ZM180-400h160v-160H180v160Zm440 0h160v-160H620v160ZM180-180h160v-160H180v160Zm440 0h160v-160H620v160Z\"/>\n",
              "  </svg>\n",
              "    </button>\n",
              "\n",
              "  <style>\n",
              "    .colab-df-container {\n",
              "      display:flex;\n",
              "      gap: 12px;\n",
              "    }\n",
              "\n",
              "    .colab-df-convert {\n",
              "      background-color: #E8F0FE;\n",
              "      border: none;\n",
              "      border-radius: 50%;\n",
              "      cursor: pointer;\n",
              "      display: none;\n",
              "      fill: #1967D2;\n",
              "      height: 32px;\n",
              "      padding: 0 0 0 0;\n",
              "      width: 32px;\n",
              "    }\n",
              "\n",
              "    .colab-df-convert:hover {\n",
              "      background-color: #E2EBFA;\n",
              "      box-shadow: 0px 1px 2px rgba(60, 64, 67, 0.3), 0px 1px 3px 1px rgba(60, 64, 67, 0.15);\n",
              "      fill: #174EA6;\n",
              "    }\n",
              "\n",
              "    .colab-df-buttons div {\n",
              "      margin-bottom: 4px;\n",
              "    }\n",
              "\n",
              "    [theme=dark] .colab-df-convert {\n",
              "      background-color: #3B4455;\n",
              "      fill: #D2E3FC;\n",
              "    }\n",
              "\n",
              "    [theme=dark] .colab-df-convert:hover {\n",
              "      background-color: #434B5C;\n",
              "      box-shadow: 0px 1px 3px 1px rgba(0, 0, 0, 0.15);\n",
              "      filter: drop-shadow(0px 1px 2px rgba(0, 0, 0, 0.3));\n",
              "      fill: #FFFFFF;\n",
              "    }\n",
              "  </style>\n",
              "\n",
              "    <script>\n",
              "      const buttonEl =\n",
              "        document.querySelector('#df-f2a4e56c-da55-4f3e-aac9-1cc70b3bbf8a button.colab-df-convert');\n",
              "      buttonEl.style.display =\n",
              "        google.colab.kernel.accessAllowed ? 'block' : 'none';\n",
              "\n",
              "      async function convertToInteractive(key) {\n",
              "        const element = document.querySelector('#df-f2a4e56c-da55-4f3e-aac9-1cc70b3bbf8a');\n",
              "        const dataTable =\n",
              "          await google.colab.kernel.invokeFunction('convertToInteractive',\n",
              "                                                    [key], {});\n",
              "        if (!dataTable) return;\n",
              "\n",
              "        const docLinkHtml = 'Like what you see? Visit the ' +\n",
              "          '<a target=\"_blank\" href=https://colab.research.google.com/notebooks/data_table.ipynb>data table notebook</a>'\n",
              "          + ' to learn more about interactive tables.';\n",
              "        element.innerHTML = '';\n",
              "        dataTable['output_type'] = 'display_data';\n",
              "        await google.colab.output.renderOutput(dataTable, element);\n",
              "        const docLink = document.createElement('div');\n",
              "        docLink.innerHTML = docLinkHtml;\n",
              "        element.appendChild(docLink);\n",
              "      }\n",
              "    </script>\n",
              "  </div>\n",
              "\n",
              "\n",
              "<div id=\"df-16c851c9-b3c5-4dd5-aaac-b44de302e5a8\">\n",
              "  <button class=\"colab-df-quickchart\" onclick=\"quickchart('df-16c851c9-b3c5-4dd5-aaac-b44de302e5a8')\"\n",
              "            title=\"Suggest charts\"\n",
              "            style=\"display:none;\">\n",
              "\n",
              "<svg xmlns=\"http://www.w3.org/2000/svg\" height=\"24px\"viewBox=\"0 0 24 24\"\n",
              "     width=\"24px\">\n",
              "    <g>\n",
              "        <path d=\"M19 3H5c-1.1 0-2 .9-2 2v14c0 1.1.9 2 2 2h14c1.1 0 2-.9 2-2V5c0-1.1-.9-2-2-2zM9 17H7v-7h2v7zm4 0h-2V7h2v10zm4 0h-2v-4h2v4z\"/>\n",
              "    </g>\n",
              "</svg>\n",
              "  </button>\n",
              "\n",
              "<style>\n",
              "  .colab-df-quickchart {\n",
              "      --bg-color: #E8F0FE;\n",
              "      --fill-color: #1967D2;\n",
              "      --hover-bg-color: #E2EBFA;\n",
              "      --hover-fill-color: #174EA6;\n",
              "      --disabled-fill-color: #AAA;\n",
              "      --disabled-bg-color: #DDD;\n",
              "  }\n",
              "\n",
              "  [theme=dark] .colab-df-quickchart {\n",
              "      --bg-color: #3B4455;\n",
              "      --fill-color: #D2E3FC;\n",
              "      --hover-bg-color: #434B5C;\n",
              "      --hover-fill-color: #FFFFFF;\n",
              "      --disabled-bg-color: #3B4455;\n",
              "      --disabled-fill-color: #666;\n",
              "  }\n",
              "\n",
              "  .colab-df-quickchart {\n",
              "    background-color: var(--bg-color);\n",
              "    border: none;\n",
              "    border-radius: 50%;\n",
              "    cursor: pointer;\n",
              "    display: none;\n",
              "    fill: var(--fill-color);\n",
              "    height: 32px;\n",
              "    padding: 0;\n",
              "    width: 32px;\n",
              "  }\n",
              "\n",
              "  .colab-df-quickchart:hover {\n",
              "    background-color: var(--hover-bg-color);\n",
              "    box-shadow: 0 1px 2px rgba(60, 64, 67, 0.3), 0 1px 3px 1px rgba(60, 64, 67, 0.15);\n",
              "    fill: var(--button-hover-fill-color);\n",
              "  }\n",
              "\n",
              "  .colab-df-quickchart-complete:disabled,\n",
              "  .colab-df-quickchart-complete:disabled:hover {\n",
              "    background-color: var(--disabled-bg-color);\n",
              "    fill: var(--disabled-fill-color);\n",
              "    box-shadow: none;\n",
              "  }\n",
              "\n",
              "  .colab-df-spinner {\n",
              "    border: 2px solid var(--fill-color);\n",
              "    border-color: transparent;\n",
              "    border-bottom-color: var(--fill-color);\n",
              "    animation:\n",
              "      spin 1s steps(1) infinite;\n",
              "  }\n",
              "\n",
              "  @keyframes spin {\n",
              "    0% {\n",
              "      border-color: transparent;\n",
              "      border-bottom-color: var(--fill-color);\n",
              "      border-left-color: var(--fill-color);\n",
              "    }\n",
              "    20% {\n",
              "      border-color: transparent;\n",
              "      border-left-color: var(--fill-color);\n",
              "      border-top-color: var(--fill-color);\n",
              "    }\n",
              "    30% {\n",
              "      border-color: transparent;\n",
              "      border-left-color: var(--fill-color);\n",
              "      border-top-color: var(--fill-color);\n",
              "      border-right-color: var(--fill-color);\n",
              "    }\n",
              "    40% {\n",
              "      border-color: transparent;\n",
              "      border-right-color: var(--fill-color);\n",
              "      border-top-color: var(--fill-color);\n",
              "    }\n",
              "    60% {\n",
              "      border-color: transparent;\n",
              "      border-right-color: var(--fill-color);\n",
              "    }\n",
              "    80% {\n",
              "      border-color: transparent;\n",
              "      border-right-color: var(--fill-color);\n",
              "      border-bottom-color: var(--fill-color);\n",
              "    }\n",
              "    90% {\n",
              "      border-color: transparent;\n",
              "      border-bottom-color: var(--fill-color);\n",
              "    }\n",
              "  }\n",
              "</style>\n",
              "\n",
              "  <script>\n",
              "    async function quickchart(key) {\n",
              "      const quickchartButtonEl =\n",
              "        document.querySelector('#' + key + ' button');\n",
              "      quickchartButtonEl.disabled = true;  // To prevent multiple clicks.\n",
              "      quickchartButtonEl.classList.add('colab-df-spinner');\n",
              "      try {\n",
              "        const charts = await google.colab.kernel.invokeFunction(\n",
              "            'suggestCharts', [key], {});\n",
              "      } catch (error) {\n",
              "        console.error('Error during call to suggestCharts:', error);\n",
              "      }\n",
              "      quickchartButtonEl.classList.remove('colab-df-spinner');\n",
              "      quickchartButtonEl.classList.add('colab-df-quickchart-complete');\n",
              "    }\n",
              "    (() => {\n",
              "      let quickchartButtonEl =\n",
              "        document.querySelector('#df-16c851c9-b3c5-4dd5-aaac-b44de302e5a8 button');\n",
              "      quickchartButtonEl.style.display =\n",
              "        google.colab.kernel.accessAllowed ? 'block' : 'none';\n",
              "    })();\n",
              "  </script>\n",
              "</div>\n",
              "    </div>\n",
              "  </div>\n"
            ],
            "application/vnd.google.colaboratory.intrinsic+json": {
              "type": "dataframe",
              "summary": "{\n  \"name\": \"df1[x50 & y50]\",\n  \"rows\": 33,\n  \"fields\": [\n    {\n      \"column\": \"x\",\n      \"properties\": {\n        \"dtype\": \"number\",\n        \"std\": 10.174097777600814,\n        \"min\": 51.2821,\n        \"max\": 85.1282,\n        \"num_unique_values\": 28,\n        \"samples\": [\n          70.5128,\n          81.7949,\n          57.4359\n        ],\n        \"semantic_type\": \"\",\n        \"description\": \"\"\n      }\n    },\n    {\n      \"column\": \"y\",\n      \"properties\": {\n        \"dtype\": \"number\",\n        \"std\": 15.462921375037356,\n        \"min\": 51.4103,\n        \"max\": 99.4872,\n        \"num_unique_values\": 31,\n        \"samples\": [\n          71.4103,\n          82.9487,\n          86.4103\n        ],\n        \"semantic_type\": \"\",\n        \"description\": \"\"\n      }\n    }\n  ]\n}"
            }
          },
          "metadata": {},
          "execution_count": 30
        }
      ],
      "source": [
        "# write your code here\n",
        "\n",
        "df1 = pd.read_csv(ds1)\n",
        "df2 = pd.read_csv(ds2)\n",
        "df3 = pd.read_csv(ds3)\n",
        "df1.shape\n",
        "\n",
        "df1.describe()\n",
        "\n",
        "df1.head()\n",
        "\n",
        "x50 = df1['x']>50\n",
        "y50 = df1['y']> 50\n",
        "\n",
        "df1[x50 & y50]"
      ]
    },
    {
      "cell_type": "code",
      "source": [
        "x_column = df1['x']\n",
        "x_column.plot(kind='line')\n"
      ],
      "metadata": {
        "colab": {
          "base_uri": "https://localhost:8080/",
          "height": 448
        },
        "id": "XQ08dz206pN1",
        "outputId": "0dd0ce20-5a55-47f0-cdf1-9d3c855cfccf"
      },
      "execution_count": 32,
      "outputs": [
        {
          "output_type": "execute_result",
          "data": {
            "text/plain": [
              "<Axes: >"
            ]
          },
          "metadata": {},
          "execution_count": 32
        },
        {
          "output_type": "display_data",
          "data": {
            "text/plain": [
              "<Figure size 640x480 with 1 Axes>"
            ],
            "image/png": "[encoded data removed]"
          },
          "metadata": {}
        }
      ]
    },
    {
      "cell_type": "code",
      "source": [
        "df1.plot.scatter(x='x', y='y', s=10, c='Black')"
      ],
      "metadata": {
        "colab": {
          "base_uri": "https://localhost:8080/",
          "height": 467
        },
        "id": "DZlMQgiI7DFL",
        "outputId": "d26c7569-cf0b-457d-bbe6-9d63c906c50d"
      },
      "execution_count": 31,
      "outputs": [
        {
          "output_type": "execute_result",
          "data": {
            "text/plain": [
              "<Axes: xlabel='x', ylabel='y'>"
            ]
          },
          "metadata": {},
          "execution_count": 31
        },
        {
          "output_type": "display_data",
          "data": {
            "text/plain": [
              "<Figure size 640x480 with 1 Axes>"
            ],
            "image/png": "[encoded data removed]"
          },
          "metadata": {}
        }
      ]
    },
    {
      "cell_type": "markdown",
      "metadata": {
        "id": "lNPX9zA7sCYn"
      },
      "source": [
        "## Checkpoint\n",
        "\n",
        "Congratulations! you have finished the required task for Week 2. Since you got this empty (without your code and output) notebook by downloading from iLearn, place this notebook (Workshop Week 2.ipynb) into your local copy of your Github repository (e.g. practical-workshops-sonitsingh)and commit your work with a suitable commit message and push your changes back to your Github repository. Show your tutor your updated Github repository to get your checkpoint mark."
      ]
    },
    {
      "cell_type": "markdown",
      "metadata": {
        "id": "Y0jsKgrcsCYo"
      },
      "source": [
        "# Further Practice\n",
        "\n",
        "If you finish this task you can practice more with pandas data frames by following the examples in the text, section 2.6.  The CSV file that they use in that section is available in the `files` directory of this repository as `educ_figdp_1_Data.csv`.   "
      ]
    },
    {
      "cell_type": "code",
      "execution_count": null,
      "metadata": {
        "id": "VIlgTYKqsCYo"
      },
      "outputs": [],
      "source": [
        "edufile = 'files/educ_figdp_1_Data.csv'"
      ]
    }
  ],
  "metadata": {
    "kernelspec": {
      "display_name": "Python 3",
      "language": "python",
      "name": "python3"
    },
    "language_info": {
      "codemirror_mode": {
        "name": "ipython",
        "version": 3
      },
      "file_extension": ".py",
      "mimetype": "text/x-python",
      "name": "python",
      "nbconvert_exporter": "python",
      "pygments_lexer": "ipython3",
      "version": "3.7.3"
    },
    "colab": {
      "provenance": []
    }
  },
  "nbformat": 4,
  "nbformat_minor": 0
}